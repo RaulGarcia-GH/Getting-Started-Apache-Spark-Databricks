{
 "cells": [
  {
   "cell_type": "code",
   "execution_count": 0,
   "metadata": {
    "application/vnd.databricks.v1+cell": {
     "inputWidgets": {},
     "nuid": "b13fd236-9634-48c3-ab28-6a3e6759d928",
     "showTitle": false,
     "title": ""
    }
   },
   "outputs": [
    {
     "data": {
      "text/html": [
       "<style scoped>\n",
       "  .ansiout {\n",
       "    display: block;\n",
       "    unicode-bidi: embed;\n",
       "    white-space: pre-wrap;\n",
       "    word-wrap: break-word;\n",
       "    word-break: break-all;\n",
       "    font-family: \"Source Code Pro\", \"Menlo\", monospace;;\n",
       "    font-size: 13px;\n",
       "    color: #555;\n",
       "    margin-left: 4px;\n",
       "    line-height: 19px;\n",
       "  }\n",
       "</style>\n",
       "<div class=\"ansiout\"></div>"
      ]
     },
     "metadata": {
      "application/vnd.databricks.v1+output": {
       "addedWidgets": {},
       "arguments": {},
       "data": "<div class=\"ansiout\"></div>",
       "datasetInfos": [],
       "metadata": {},
       "removedWidgets": [],
       "type": "html"
      }
     },
     "output_type": "display_data"
    }
   ],
   "source": [
    "## TODO Recording: In the cell below expand the dataframe and show that column headers are of the type _c0 etc"
   ]
  },
  {
   "cell_type": "code",
   "execution_count": 0,
   "metadata": {
    "application/vnd.databricks.v1+cell": {
     "inputWidgets": {},
     "nuid": "2e512195-91f1-41ad-ab0b-6331a2076853",
     "showTitle": false,
     "title": ""
    }
   },
   "outputs": [
    {
     "data": {
      "text/html": [
       "<style scoped>\n",
       "  .ansiout {\n",
       "    display: block;\n",
       "    unicode-bidi: embed;\n",
       "    white-space: pre-wrap;\n",
       "    word-wrap: break-word;\n",
       "    word-break: break-all;\n",
       "    font-family: \"Source Code Pro\", \"Menlo\", monospace;;\n",
       "    font-size: 13px;\n",
       "    color: #555;\n",
       "    margin-left: 4px;\n",
       "    line-height: 19px;\n",
       "  }\n",
       "</style>\n",
       "<div class=\"ansiout\"></div>"
      ]
     },
     "metadata": {
      "application/vnd.databricks.v1+output": {
       "addedWidgets": {},
       "arguments": {},
       "data": "<div class=\"ansiout\"></div>",
       "datasetInfos": [],
       "metadata": {},
       "removedWidgets": [],
       "type": "html"
      }
     },
     "output_type": "display_data"
    }
   ],
   "source": [
    "df1 = spark.read.format(\"csv\").load(\"dbfs:/FileStore/shared_uploads/cloud.user@loonycorn.com/credit_train.csv\")"
   ]
  },
  {
   "cell_type": "code",
   "execution_count": 0,
   "metadata": {
    "application/vnd.databricks.v1+cell": {
     "inputWidgets": {},
     "nuid": "4d4f7f9d-2454-44da-ad8a-c8b8aac76a0a",
     "showTitle": false,
     "title": ""
    }
   },
   "outputs": [
    {
     "data": {
      "text/html": [
       "<style scoped>\n",
       "  .ansiout {\n",
       "    display: block;\n",
       "    unicode-bidi: embed;\n",
       "    white-space: pre-wrap;\n",
       "    word-wrap: break-word;\n",
       "    word-break: break-all;\n",
       "    font-family: \"Source Code Pro\", \"Menlo\", monospace;;\n",
       "    font-size: 13px;\n",
       "    color: #555;\n",
       "    margin-left: 4px;\n",
       "    line-height: 19px;\n",
       "  }\n",
       "</style>\n",
       "<div class=\"ansiout\"></div>"
      ]
     },
     "metadata": {
      "application/vnd.databricks.v1+output": {
       "addedWidgets": {},
       "arguments": {},
       "data": "<div class=\"ansiout\"></div>",
       "datasetInfos": [],
       "metadata": {},
       "removedWidgets": [],
       "type": "html"
      }
     },
     "output_type": "display_data"
    }
   ],
   "source": [
    "## TODO Recording: In the cell below expand the churn_data and show that we now have sensible headers"
   ]
  },
  {
   "cell_type": "code",
   "execution_count": 0,
   "metadata": {
    "application/vnd.databricks.v1+cell": {
     "inputWidgets": {},
     "nuid": "0a6d34f5-5d6d-4931-9f07-f7a28d0682e4",
     "showTitle": false,
     "title": ""
    }
   },
   "outputs": [
    {
     "data": {
      "text/html": [
       "<style scoped>\n",
       "  .ansiout {\n",
       "    display: block;\n",
       "    unicode-bidi: embed;\n",
       "    white-space: pre-wrap;\n",
       "    word-wrap: break-word;\n",
       "    word-break: break-all;\n",
       "    font-family: \"Source Code Pro\", \"Menlo\", monospace;;\n",
       "    font-size: 13px;\n",
       "    color: #555;\n",
       "    margin-left: 4px;\n",
       "    line-height: 19px;\n",
       "  }\n",
       "</style>\n",
       "<div class=\"ansiout\"></div>"
      ]
     },
     "metadata": {
      "application/vnd.databricks.v1+output": {
       "addedWidgets": {},
       "arguments": {},
       "data": "<div class=\"ansiout\"></div>",
       "datasetInfos": [],
       "metadata": {},
       "removedWidgets": [],
       "type": "html"
      }
     },
     "output_type": "display_data"
    }
   ],
   "source": [
    "credit_data = spark.read.format(\"csv\") \\\n",
    "                        .option(\"inferSchema\", \"True\") \\\n",
    "                        .option(\"header\", \"True\") \\\n",
    "                        .option(\"sep\", \",\") \\\n",
    "                        .load(\"dbfs:/FileStore/shared_uploads/cloud.user@loonycorn.com/credit_train.csv\")"
   ]
  },
  {
   "cell_type": "code",
   "execution_count": 0,
   "metadata": {
    "application/vnd.databricks.v1+cell": {
     "inputWidgets": {},
     "nuid": "192a4db7-a50b-40b6-963f-5f0e72e6ff62",
     "showTitle": false,
     "title": ""
    }
   },
   "outputs": [
    {
     "data": {
      "text/html": [
       "<style scoped>\n",
       "  .ansiout {\n",
       "    display: block;\n",
       "    unicode-bidi: embed;\n",
       "    white-space: pre-wrap;\n",
       "    word-wrap: break-word;\n",
       "    word-break: break-all;\n",
       "    font-family: \"Source Code Pro\", \"Menlo\", monospace;;\n",
       "    font-size: 13px;\n",
       "    color: #555;\n",
       "    margin-left: 4px;\n",
       "    line-height: 19px;\n",
       "  }\n",
       "</style>\n",
       "<div class=\"ansiout\">root\n",
       "-- Loan ID: string (nullable = true)\n",
       "-- Customer ID: string (nullable = true)\n",
       "-- Loan Status: string (nullable = true)\n",
       "-- Current Loan Amount: integer (nullable = true)\n",
       "-- Term: string (nullable = true)\n",
       "-- Credit Score: integer (nullable = true)\n",
       "-- Annual Income: integer (nullable = true)\n",
       "-- Years in current job: string (nullable = true)\n",
       "-- Home Ownership: string (nullable = true)\n",
       "-- Purpose: string (nullable = true)\n",
       "-- Monthly Debt: double (nullable = true)\n",
       "-- Years of Credit History: double (nullable = true)\n",
       "-- Months since last delinquent: string (nullable = true)\n",
       "-- Number of Open Accounts: integer (nullable = true)\n",
       "-- Number of Credit Problems: integer (nullable = true)\n",
       "-- Current Credit Balance: integer (nullable = true)\n",
       "-- Maximum Open Credit: integer (nullable = true)\n",
       "-- Bankruptcies: string (nullable = true)\n",
       "-- Tax Liens: string (nullable = true)\n",
       "\n",
       "</div>"
      ]
     },
     "metadata": {
      "application/vnd.databricks.v1+output": {
       "addedWidgets": {},
       "arguments": {},
       "data": "<div class=\"ansiout\">root\n |-- Loan ID: string (nullable = true)\n |-- Customer ID: string (nullable = true)\n |-- Loan Status: string (nullable = true)\n |-- Current Loan Amount: integer (nullable = true)\n |-- Term: string (nullable = true)\n |-- Credit Score: integer (nullable = true)\n |-- Annual Income: integer (nullable = true)\n |-- Years in current job: string (nullable = true)\n |-- Home Ownership: string (nullable = true)\n |-- Purpose: string (nullable = true)\n |-- Monthly Debt: double (nullable = true)\n |-- Years of Credit History: double (nullable = true)\n |-- Months since last delinquent: string (nullable = true)\n |-- Number of Open Accounts: integer (nullable = true)\n |-- Number of Credit Problems: integer (nullable = true)\n |-- Current Credit Balance: integer (nullable = true)\n |-- Maximum Open Credit: integer (nullable = true)\n |-- Bankruptcies: string (nullable = true)\n |-- Tax Liens: string (nullable = true)\n\n</div>",
       "datasetInfos": [],
       "metadata": {},
       "removedWidgets": [],
       "type": "html"
      }
     },
     "output_type": "display_data"
    }
   ],
   "source": [
    "credit_data.printSchema()"
   ]
  },
  {
   "cell_type": "code",
   "execution_count": 0,
   "metadata": {
    "application/vnd.databricks.v1+cell": {
     "inputWidgets": {},
     "nuid": "41c51fcc-2872-45b7-a035-c0d81faf9986",
     "showTitle": false,
     "title": ""
    }
   },
   "outputs": [
    {
     "data": {
      "text/html": [
       "<style scoped>\n",
       "  .ansiout {\n",
       "    display: block;\n",
       "    unicode-bidi: embed;\n",
       "    white-space: pre-wrap;\n",
       "    word-wrap: break-word;\n",
       "    word-break: break-all;\n",
       "    font-family: \"Source Code Pro\", \"Menlo\", monospace;;\n",
       "    font-size: 13px;\n",
       "    color: #555;\n",
       "    margin-left: 4px;\n",
       "    line-height: 19px;\n",
       "  }\n",
       "</style>\n",
       "<div class=\"ansiout\">+--------------------+--------------------+-----------+-------------------+----------+------------+-------------+--------------------+--------------+------------------+------------+-----------------------+----------------------------+-----------------------+-------------------------+----------------------+-------------------+------------+---------+\n",
       "             Loan ID|         Customer ID|Loan Status|Current Loan Amount|      Term|Credit Score|Annual Income|Years in current job|Home Ownership|           Purpose|Monthly Debt|Years of Credit History|Months since last delinquent|Number of Open Accounts|Number of Credit Problems|Current Credit Balance|Maximum Open Credit|Bankruptcies|Tax Liens|\n",
       "+--------------------+--------------------+-----------+-------------------+----------+------------+-------------+--------------------+--------------+------------------+------------+-----------------------+----------------------------+-----------------------+-------------------------+----------------------+-------------------+------------+---------+\n",
       "14dd8831-6af5-400...|981165ec-3274-42f...| Fully Paid|             445412|Short Term|         709|      1167493|             8 years| Home Mortgage| Home Improvements|     5214.74|                   17.2|                          NA|                      6|                        1|                228190|             416746|           1|        0|\n",
       "4771cc26-131a-45d...|2de017a3-2e01-49c...| Fully Paid|             262328|Short Term|        null|         null|           10+ years| Home Mortgage|Debt Consolidation|    33295.98|                   21.1|                           8|                     35|                        0|                229976|             850784|           0|        0|\n",
       "4eed4e6a-aa2f-4c9...|5efb2b2b-bf11-4df...| Fully Paid|           99999999|Short Term|         741|      2231892|             8 years|      Own Home|Debt Consolidation|    29200.53|                   14.9|                          29|                     18|                        1|                297996|             750090|           0|        0|\n",
       "77598f7b-32e7-4e3...|e777faab-98ae-45a...| Fully Paid|             347666| Long Term|         721|       806949|             3 years|      Own Home|Debt Consolidation|      8741.9|                   12.0|                          NA|                      9|                        0|                256329|             386958|           0|        0|\n",
       "d4062e70-befa-499...|81536ad9-5ccf-4eb...| Fully Paid|             176220|Short Term|        null|         null|             5 years|          Rent|Debt Consolidation|     20639.7|                    6.1|                          NA|                     15|                        0|                253460|             427174|           0|        0|\n",
       "89d8cb0c-e5c2-4f5...|4ffe99d3-7f2a-44d...|Charged Off|             206602|Short Term|        7290|       896857|           10+ years| Home Mortgage|Debt Consolidation|    16367.74|                   17.3|                          NA|                      6|                        0|                215308|             272448|           0|        0|\n",
       "273581de-85d8-433...|90a75dde-34d5-419...| Fully Paid|             217646|Short Term|         730|      1184194|            &lt; 1 year| Home Mortgage|Debt Consolidation|    10855.08|                   19.6|                          10|                     13|                        1|                122170|             272052|           1|        0|\n",
       "db0dc6e1-77ee-482...|018973c9-e316-495...|Charged Off|             648714| Long Term|        null|         null|            &lt; 1 year| Home Mortgage|         Buy House|    14806.13|                    8.2|                           8|                     15|                        0|                193306|             864204|           0|        0|\n",
       "8af915d9-9e91-44a...|af534dea-d27e-4fd...| Fully Paid|             548746|Short Term|         678|      2559110|             2 years|          Rent|Debt Consolidation|    18660.28|                   22.6|                          33|                      4|                        0|                437171|             555038|           0|        0|\n",
       "0b1c4e3d-bd97-45c...|235c4a43-dadf-483...| Fully Paid|             215952|Short Term|         739|      1454735|            &lt; 1 year|          Rent|Debt Consolidation|    39277.75|                   13.9|                          NA|                     20|                        0|                669560|            1021460|           0|        0|\n",
       "32c2e48f-1ba8-45e...|0de7bcdb-ebf4-460...| Fully Paid|           99999999|Short Term|         728|       714628|             3 years|          Rent|Debt Consolidation|    11851.06|                   16.0|                          76|                     16|                        0|                203965|             289784|           0|        0|\n",
       "fa096848-6143-490...|aa0a6a22-a95e-48e...| Fully Paid|             541970|Short Term|        null|         null|           10+ years| Home Mortgage| Home Improvements|    23568.55|                   23.2|                          NA|                     23|                        0|                 60705|            1634468|           0|        0|\n",
       "403d7235-0284-4bb...|11581f68-de3c-49d...| Fully Paid|           99999999|Short Term|         740|       776188|            &lt; 1 year|      Own Home|Debt Consolidation|    11578.22|                    8.5|                          25|                      6|                        0|                134083|             220220|           0|        0|\n",
       "01d878ae-efa2-41e...|900c9191-2c20-468...| Fully Paid|           99999999|Short Term|         743|      1560907|             4 years|          Rent|Debt Consolidation|    17560.37|                   13.3|                          NA|                     10|                        1|                225549|             496474|           1|        0|\n",
       "2e841c8f-3dc1-464...|2ac05980-7848-469...| Fully Paid|             234124|Short Term|         727|       693234|           10+ years|          Rent|Debt Consolidation|    14211.24|                   24.7|                          46|                     10|                        1|                 28291|             107052|           1|        0|\n",
       "+--------------------+--------------------+-----------+-------------------+----------+------------+-------------+--------------------+--------------+------------------+------------+-----------------------+----------------------------+-----------------------+-------------------------+----------------------+-------------------+------------+---------+\n",
       "only showing top 15 rows\n",
       "\n",
       "</div>"
      ]
     },
     "metadata": {
      "application/vnd.databricks.v1+output": {
       "addedWidgets": {},
       "arguments": {},
       "data": "<div class=\"ansiout\">+--------------------+--------------------+-----------+-------------------+----------+------------+-------------+--------------------+--------------+------------------+------------+-----------------------+----------------------------+-----------------------+-------------------------+----------------------+-------------------+------------+---------+\n|             Loan ID|         Customer ID|Loan Status|Current Loan Amount|      Term|Credit Score|Annual Income|Years in current job|Home Ownership|           Purpose|Monthly Debt|Years of Credit History|Months since last delinquent|Number of Open Accounts|Number of Credit Problems|Current Credit Balance|Maximum Open Credit|Bankruptcies|Tax Liens|\n+--------------------+--------------------+-----------+-------------------+----------+------------+-------------+--------------------+--------------+------------------+------------+-----------------------+----------------------------+-----------------------+-------------------------+----------------------+-------------------+------------+---------+\n|14dd8831-6af5-400...|981165ec-3274-42f...| Fully Paid|             445412|Short Term|         709|      1167493|             8 years| Home Mortgage| Home Improvements|     5214.74|                   17.2|                          NA|                      6|                        1|                228190|             416746|           1|        0|\n|4771cc26-131a-45d...|2de017a3-2e01-49c...| Fully Paid|             262328|Short Term|        null|         null|           10+ years| Home Mortgage|Debt Consolidation|    33295.98|                   21.1|                           8|                     35|                        0|                229976|             850784|           0|        0|\n|4eed4e6a-aa2f-4c9...|5efb2b2b-bf11-4df...| Fully Paid|           99999999|Short Term|         741|      2231892|             8 years|      Own Home|Debt Consolidation|    29200.53|                   14.9|                          29|                     18|                        1|                297996|             750090|           0|        0|\n|77598f7b-32e7-4e3...|e777faab-98ae-45a...| Fully Paid|             347666| Long Term|         721|       806949|             3 years|      Own Home|Debt Consolidation|      8741.9|                   12.0|                          NA|                      9|                        0|                256329|             386958|           0|        0|\n|d4062e70-befa-499...|81536ad9-5ccf-4eb...| Fully Paid|             176220|Short Term|        null|         null|             5 years|          Rent|Debt Consolidation|     20639.7|                    6.1|                          NA|                     15|                        0|                253460|             427174|           0|        0|\n|89d8cb0c-e5c2-4f5...|4ffe99d3-7f2a-44d...|Charged Off|             206602|Short Term|        7290|       896857|           10+ years| Home Mortgage|Debt Consolidation|    16367.74|                   17.3|                          NA|                      6|                        0|                215308|             272448|           0|        0|\n|273581de-85d8-433...|90a75dde-34d5-419...| Fully Paid|             217646|Short Term|         730|      1184194|            &lt; 1 year| Home Mortgage|Debt Consolidation|    10855.08|                   19.6|                          10|                     13|                        1|                122170|             272052|           1|        0|\n|db0dc6e1-77ee-482...|018973c9-e316-495...|Charged Off|             648714| Long Term|        null|         null|            &lt; 1 year| Home Mortgage|         Buy House|    14806.13|                    8.2|                           8|                     15|                        0|                193306|             864204|           0|        0|\n|8af915d9-9e91-44a...|af534dea-d27e-4fd...| Fully Paid|             548746|Short Term|         678|      2559110|             2 years|          Rent|Debt Consolidation|    18660.28|                   22.6|                          33|                      4|                        0|                437171|             555038|           0|        0|\n|0b1c4e3d-bd97-45c...|235c4a43-dadf-483...| Fully Paid|             215952|Short Term|         739|      1454735|            &lt; 1 year|          Rent|Debt Consolidation|    39277.75|                   13.9|                          NA|                     20|                        0|                669560|            1021460|           0|        0|\n|32c2e48f-1ba8-45e...|0de7bcdb-ebf4-460...| Fully Paid|           99999999|Short Term|         728|       714628|             3 years|          Rent|Debt Consolidation|    11851.06|                   16.0|                          76|                     16|                        0|                203965|             289784|           0|        0|\n|fa096848-6143-490...|aa0a6a22-a95e-48e...| Fully Paid|             541970|Short Term|        null|         null|           10+ years| Home Mortgage| Home Improvements|    23568.55|                   23.2|                          NA|                     23|                        0|                 60705|            1634468|           0|        0|\n|403d7235-0284-4bb...|11581f68-de3c-49d...| Fully Paid|           99999999|Short Term|         740|       776188|            &lt; 1 year|      Own Home|Debt Consolidation|    11578.22|                    8.5|                          25|                      6|                        0|                134083|             220220|           0|        0|\n|01d878ae-efa2-41e...|900c9191-2c20-468...| Fully Paid|           99999999|Short Term|         743|      1560907|             4 years|          Rent|Debt Consolidation|    17560.37|                   13.3|                          NA|                     10|                        1|                225549|             496474|           1|        0|\n|2e841c8f-3dc1-464...|2ac05980-7848-469...| Fully Paid|             234124|Short Term|         727|       693234|           10+ years|          Rent|Debt Consolidation|    14211.24|                   24.7|                          46|                     10|                        1|                 28291|             107052|           1|        0|\n+--------------------+--------------------+-----------+-------------------+----------+------------+-------------+--------------------+--------------+------------------+------------+-----------------------+----------------------------+-----------------------+-------------------------+----------------------+-------------------+------------+---------+\nonly showing top 15 rows\n\n</div>",
       "datasetInfos": [],
       "metadata": {},
       "removedWidgets": [],
       "type": "html"
      }
     },
     "output_type": "display_data"
    }
   ],
   "source": [
    "credit_data.show(15)"
   ]
  },
  {
   "cell_type": "code",
   "execution_count": 0,
   "metadata": {
    "application/vnd.databricks.v1+cell": {
     "inputWidgets": {},
     "nuid": "c423f5c2-677a-49c8-b01e-e3dbeb4ff75f",
     "showTitle": false,
     "title": ""
    }
   },
   "outputs": [
    {
     "data": {
      "text/html": [
       "<style scoped>\n",
       "  .ansiout {\n",
       "    display: block;\n",
       "    unicode-bidi: embed;\n",
       "    white-space: pre-wrap;\n",
       "    word-wrap: break-word;\n",
       "    word-break: break-all;\n",
       "    font-family: \"Source Code Pro\", \"Menlo\", monospace;;\n",
       "    font-size: 13px;\n",
       "    color: #555;\n",
       "    margin-left: 4px;\n",
       "    line-height: 19px;\n",
       "  }\n",
       "</style>\n",
       "<div class=\"ansiout\">Out[19]: 100000</div>"
      ]
     },
     "metadata": {
      "application/vnd.databricks.v1+output": {
       "addedWidgets": {},
       "arguments": {},
       "data": "<div class=\"ansiout\">Out[19]: 100000</div>",
       "datasetInfos": [],
       "metadata": {},
       "removedWidgets": [],
       "type": "html"
      }
     },
     "output_type": "display_data"
    }
   ],
   "source": [
    "credit_data.count()"
   ]
  },
  {
   "cell_type": "code",
   "execution_count": 0,
   "metadata": {
    "application/vnd.databricks.v1+cell": {
     "inputWidgets": {},
     "nuid": "a659c718-f29c-4f4c-a57b-dfe500c02af3",
     "showTitle": false,
     "title": ""
    }
   },
   "outputs": [
    {
     "data": {
      "text/html": [
       "<style scoped>\n",
       "  .ansiout {\n",
       "    display: block;\n",
       "    unicode-bidi: embed;\n",
       "    white-space: pre-wrap;\n",
       "    word-wrap: break-word;\n",
       "    word-break: break-all;\n",
       "    font-family: \"Source Code Pro\", \"Menlo\", monospace;;\n",
       "    font-size: 13px;\n",
       "    color: #555;\n",
       "    margin-left: 4px;\n",
       "    line-height: 19px;\n",
       "  }\n",
       "</style>\n",
       "<div class=\"ansiout\"></div>"
      ]
     },
     "metadata": {
      "application/vnd.databricks.v1+output": {
       "addedWidgets": {},
       "arguments": {},
       "data": "<div class=\"ansiout\"></div>",
       "datasetInfos": [],
       "metadata": {},
       "removedWidgets": [],
       "type": "html"
      }
     },
     "output_type": "display_data"
    }
   ],
   "source": [
    "credit_data_subset = credit_data.select('Loan Status', 'Current Loan Amount', 'Annual Income')"
   ]
  },
  {
   "cell_type": "code",
   "execution_count": 0,
   "metadata": {
    "application/vnd.databricks.v1+cell": {
     "inputWidgets": {},
     "nuid": "6b415b2d-5f5c-4d09-beba-bcd27cf1b160",
     "showTitle": false,
     "title": ""
    }
   },
   "outputs": [
    {
     "data": {
      "text/html": [
       "<style scoped>\n",
       "  .ansiout {\n",
       "    display: block;\n",
       "    unicode-bidi: embed;\n",
       "    white-space: pre-wrap;\n",
       "    word-wrap: break-word;\n",
       "    word-break: break-all;\n",
       "    font-family: \"Source Code Pro\", \"Menlo\", monospace;;\n",
       "    font-size: 13px;\n",
       "    color: #555;\n",
       "    margin-left: 4px;\n",
       "    line-height: 19px;\n",
       "  }\n",
       "</style>\n",
       "<div class=\"ansiout\">+-----------+-------------------+-------------+\n",
       "Loan Status|Current Loan Amount|Annual Income|\n",
       "+-----------+-------------------+-------------+\n",
       " Fully Paid|             445412|      1167493|\n",
       " Fully Paid|             262328|         null|\n",
       " Fully Paid|           99999999|      2231892|\n",
       " Fully Paid|             347666|       806949|\n",
       " Fully Paid|             176220|         null|\n",
       "Charged Off|             206602|       896857|\n",
       " Fully Paid|             217646|      1184194|\n",
       "Charged Off|             648714|         null|\n",
       " Fully Paid|             548746|      2559110|\n",
       " Fully Paid|             215952|      1454735|\n",
       " Fully Paid|           99999999|       714628|\n",
       " Fully Paid|             541970|         null|\n",
       " Fully Paid|           99999999|       776188|\n",
       " Fully Paid|           99999999|      1560907|\n",
       " Fully Paid|             234124|       693234|\n",
       " Fully Paid|             449020|         null|\n",
       "Charged Off|             653004|         null|\n",
       " Fully Paid|             666204|      1821967|\n",
       " Fully Paid|              66396|         null|\n",
       " Fully Paid|             390390|      1791738|\n",
       "+-----------+-------------------+-------------+\n",
       "only showing top 20 rows\n",
       "\n",
       "</div>"
      ]
     },
     "metadata": {
      "application/vnd.databricks.v1+output": {
       "addedWidgets": {},
       "arguments": {},
       "data": "<div class=\"ansiout\">+-----------+-------------------+-------------+\n|Loan Status|Current Loan Amount|Annual Income|\n+-----------+-------------------+-------------+\n| Fully Paid|             445412|      1167493|\n| Fully Paid|             262328|         null|\n| Fully Paid|           99999999|      2231892|\n| Fully Paid|             347666|       806949|\n| Fully Paid|             176220|         null|\n|Charged Off|             206602|       896857|\n| Fully Paid|             217646|      1184194|\n|Charged Off|             648714|         null|\n| Fully Paid|             548746|      2559110|\n| Fully Paid|             215952|      1454735|\n| Fully Paid|           99999999|       714628|\n| Fully Paid|             541970|         null|\n| Fully Paid|           99999999|       776188|\n| Fully Paid|           99999999|      1560907|\n| Fully Paid|             234124|       693234|\n| Fully Paid|             449020|         null|\n|Charged Off|             653004|         null|\n| Fully Paid|             666204|      1821967|\n| Fully Paid|              66396|         null|\n| Fully Paid|             390390|      1791738|\n+-----------+-------------------+-------------+\nonly showing top 20 rows\n\n</div>",
       "datasetInfos": [],
       "metadata": {},
       "removedWidgets": [],
       "type": "html"
      }
     },
     "output_type": "display_data"
    }
   ],
   "source": [
    "credit_data_subset.show()"
   ]
  },
  {
   "cell_type": "code",
   "execution_count": 0,
   "metadata": {
    "application/vnd.databricks.v1+cell": {
     "inputWidgets": {},
     "nuid": "59c1ec75-7878-4d46-879a-9b9923833c67",
     "showTitle": false,
     "title": ""
    }
   },
   "outputs": [
    {
     "data": {
      "text/html": [
       "<style scoped>\n",
       "  .ansiout {\n",
       "    display: block;\n",
       "    unicode-bidi: embed;\n",
       "    white-space: pre-wrap;\n",
       "    word-wrap: break-word;\n",
       "    word-break: break-all;\n",
       "    font-family: \"Source Code Pro\", \"Menlo\", monospace;;\n",
       "    font-size: 13px;\n",
       "    color: #555;\n",
       "    margin-left: 4px;\n",
       "    line-height: 19px;\n",
       "  }\n",
       "</style>\n",
       "<div class=\"ansiout\">+-----------+-------------------+-------------+\n",
       "Loan Status|Current Loan Amount|Annual Income|\n",
       "+-----------+-------------------+-------------+\n",
       " Fully Paid|             445412|      1167493|\n",
       " Fully Paid|             262328|         null|\n",
       " Fully Paid|           99999999|      2231892|\n",
       " Fully Paid|             347666|       806949|\n",
       " Fully Paid|             176220|         null|\n",
       "Charged Off|             206602|       896857|\n",
       " Fully Paid|             217646|      1184194|\n",
       "Charged Off|             648714|         null|\n",
       " Fully Paid|             548746|      2559110|\n",
       " Fully Paid|             215952|      1454735|\n",
       "+-----------+-------------------+-------------+\n",
       "\n",
       "</div>"
      ]
     },
     "metadata": {
      "application/vnd.databricks.v1+output": {
       "addedWidgets": {},
       "arguments": {},
       "data": "<div class=\"ansiout\">+-----------+-------------------+-------------+\n|Loan Status|Current Loan Amount|Annual Income|\n+-----------+-------------------+-------------+\n| Fully Paid|             445412|      1167493|\n| Fully Paid|             262328|         null|\n| Fully Paid|           99999999|      2231892|\n| Fully Paid|             347666|       806949|\n| Fully Paid|             176220|         null|\n|Charged Off|             206602|       896857|\n| Fully Paid|             217646|      1184194|\n|Charged Off|             648714|         null|\n| Fully Paid|             548746|      2559110|\n| Fully Paid|             215952|      1454735|\n+-----------+-------------------+-------------+\n\n</div>",
       "datasetInfos": [],
       "metadata": {},
       "removedWidgets": [],
       "type": "html"
      }
     },
     "output_type": "display_data"
    }
   ],
   "source": [
    "credit_data.select('Loan Status', 'Current Loan Amount', 'Annual Income')\\\n",
    "           .limit(10)\\\n",
    "           .show()"
   ]
  },
  {
   "cell_type": "code",
   "execution_count": 0,
   "metadata": {
    "application/vnd.databricks.v1+cell": {
     "inputWidgets": {},
     "nuid": "a46fc0e8-5a7b-4e09-b5b0-9c7389222fd8",
     "showTitle": false,
     "title": ""
    }
   },
   "outputs": [
    {
     "data": {
      "text/html": [
       "<style scoped>\n",
       "  .ansiout {\n",
       "    display: block;\n",
       "    unicode-bidi: embed;\n",
       "    white-space: pre-wrap;\n",
       "    word-wrap: break-word;\n",
       "    word-break: break-all;\n",
       "    font-family: \"Source Code Pro\", \"Menlo\", monospace;;\n",
       "    font-size: 13px;\n",
       "    color: #555;\n",
       "    margin-left: 4px;\n",
       "    line-height: 19px;\n",
       "  }\n",
       "</style>\n",
       "<div class=\"ansiout\">+--------------------+--------------------+-----------+-------------------+----------+------------+-------------+--------------------+--------------+------------------+------------+-----------------------+----------------------------+-----------------------+-------------------------+----------------------+-------------------+------------+---------+\n",
       "             Loan ID|         Customer ID|Loan Status|Current Loan Amount|      Term|Credit Score|Annual Income|Years in current job|Home Ownership|           Purpose|Monthly Debt|Years of Credit History|Months since last delinquent|Number of Open Accounts|Number of Credit Problems|Current Credit Balance|Maximum Open Credit|Bankruptcies|Tax Liens|\n",
       "+--------------------+--------------------+-----------+-------------------+----------+------------+-------------+--------------------+--------------+------------------+------------+-----------------------+----------------------------+-----------------------+-------------------------+----------------------+-------------------+------------+---------+\n",
       "4771cc26-131a-45d...|2de017a3-2e01-49c...| Fully Paid|             262328|Short Term|        null|         null|           10+ years| Home Mortgage|Debt Consolidation|    33295.98|                   21.1|                           8|                     35|                        0|                229976|             850784|           0|        0|\n",
       "d4062e70-befa-499...|81536ad9-5ccf-4eb...| Fully Paid|             176220|Short Term|        null|         null|             5 years|          Rent|Debt Consolidation|     20639.7|                    6.1|                          NA|                     15|                        0|                253460|             427174|           0|        0|\n",
       "db0dc6e1-77ee-482...|018973c9-e316-495...|Charged Off|             648714| Long Term|        null|         null|            &lt; 1 year| Home Mortgage|         Buy House|    14806.13|                    8.2|                           8|                     15|                        0|                193306|             864204|           0|        0|\n",
       "fa096848-6143-490...|aa0a6a22-a95e-48e...| Fully Paid|             541970|Short Term|        null|         null|           10+ years| Home Mortgage| Home Improvements|    23568.55|                   23.2|                          NA|                     23|                        0|                 60705|            1634468|           0|        0|\n",
       "7cbaa3fa-16fd-434...|3ec886e7-f15d-4c3...| Fully Paid|             449020| Long Term|        null|         null|             9 years|      Own Home|Debt Consolidation|    18904.81|                   19.4|                          NA|                      8|                        0|                334533|             428956|           0|        0|\n",
       "c9a16a9d-8801-443...|abb4c446-08ea-49f...|Charged Off|             653004| Long Term|        null|         null|             7 years| Home Mortgage|Debt Consolidation|    14537.09|                   20.5|                          NA|                      9|                        0|                302309|             413754|           0|        0|\n",
       "c6be21f0-80b1-46b...|c67b2cb5-9f91-4bc...| Fully Paid|              66396|Short Term|        null|         null|           10+ years|          Rent|Debt Consolidation|     9898.81|                   27.1|                          NA|                     23|                        1|                  9728|             402380|           1|        0|\n",
       "dcf093ca-d26b-485...|5129cffc-68a1-4dd...| Fully Paid|             107404|Short Term|        null|         null|                 n/a| Home Mortgage|             other|    19238.07|                   43.7|                          NA|                      5|                        0|                 28956|              58014|           0|        0|\n",
       "83ad0662-ef2d-473...|2d53b50a-30a2-488...| Fully Paid|             109318| Long Term|        null|         null|           10+ years| Home Mortgage|         Buy a Car|     15524.9|                   22.7|                          NA|                      9|                        0|                 77121|             920524|           0|        0|\n",
       "03e3a77a-fa93-489...|dedbd71d-dabd-4c6...|Charged Off|             259842|Short Term|        null|         null|             8 years| Home Mortgage|Debt Consolidation|    11792.73|                   20.6|                          34|                      9|                        0|                401584|             708818|           0|        0|\n",
       "38025238-198c-425...|33ca84d6-61ab-4e1...| Fully Paid|             210166|Short Term|        null|         null|             2 years|          Rent|Debt Consolidation|    13084.54|                   14.0|                          20|                     10|                        0|                314336|             483362|           0|        0|\n",
       "dc17c812-a350-459...|847e2dfa-a44c-4ec...| Fully Paid|             327008| Long Term|        null|         null|             4 years| Home Mortgage|Debt Consolidation|    15419.45|                   16.7|                          24|                     13|                        0|                268090|             529738|           0|        0|\n",
       "b41e7075-f499-431...|06d6c4a1-7a06-41c...|Charged Off|             214874|Short Term|        null|         null|             2 years|          Rent|Debt Consolidation|    20322.78|                   15.6|                          69|                      8|                        0|                285589|             402776|           0|        0|\n",
       "6aca03a8-c5b2-401...|1902ebd8-4ffa-418...| Fully Paid|             152548|Short Term|        null|         null|             7 years| Home Mortgage|Debt Consolidation|    19164.54|                   12.1|                          26|                     22|                        0|                120916|             946000|           0|        0|\n",
       "8196d772-1651-4a4...|fef3362a-2732-452...|Charged Off|             751520| Long Term|        null|         null|             6 years| Home Mortgage|Debt Consolidation|    27204.01|                   20.5|                          48|                     19|                        0|                483968|             594880|           0|        0|\n",
       "71e2f337-7a44-43c...|6ae17645-6b2a-408...| Fully Paid|             289388|Short Term|        null|         null|             7 years| Home Mortgage|Debt Consolidation|      9758.4|                   16.0|                          NA|                     12|                        0|                439033|            1735030|           0|        0|\n",
       "f41d9a21-d501-46d...|6e8df64b-1404-4c9...|Charged Off|             133034|Short Term|        null|         null|             5 years|      Own Home|             other|    30520.46|                   13.8|                          NA|                     23|                        0|                113278|            1561406|           0|        0|\n",
       "747a1799-0cee-4e9...|d80034d4-37b2-438...| Fully Paid|             444620|Short Term|        null|         null|             2 years| Home Mortgage| Home Improvements|    15292.34|                   11.8|                          NA|                      9|                        0|                373350|             522742|           0|        0|\n",
       "374bba0a-c0fe-46b...|64f770d8-dec2-42e...| Fully Paid|             479358|Short Term|        null|         null|           10+ years|          Rent|Debt Consolidation|    22659.59|                   22.4|                          41|                     13|                        0|                807462|            1391302|           0|        0|\n",
       "bbde2bed-dc43-409...|4da78dcb-83c2-433...| Fully Paid|             336908|Short Term|        null|         null|           10+ years|          Rent|Debt Consolidation|     6652.47|                   29.1|                          NA|                      8|                        0|                277419|            1119250|           0|        0|\n",
       "+--------------------+--------------------+-----------+-------------------+----------+------------+-------------+--------------------+--------------+------------------+------------+-----------------------+----------------------------+-----------------------+-------------------------+----------------------+-------------------+------------+---------+\n",
       "only showing top 20 rows\n",
       "\n",
       "</div>"
      ]
     },
     "metadata": {
      "application/vnd.databricks.v1+output": {
       "addedWidgets": {},
       "arguments": {},
       "data": "<div class=\"ansiout\">+--------------------+--------------------+-----------+-------------------+----------+------------+-------------+--------------------+--------------+------------------+------------+-----------------------+----------------------------+-----------------------+-------------------------+----------------------+-------------------+------------+---------+\n|             Loan ID|         Customer ID|Loan Status|Current Loan Amount|      Term|Credit Score|Annual Income|Years in current job|Home Ownership|           Purpose|Monthly Debt|Years of Credit History|Months since last delinquent|Number of Open Accounts|Number of Credit Problems|Current Credit Balance|Maximum Open Credit|Bankruptcies|Tax Liens|\n+--------------------+--------------------+-----------+-------------------+----------+------------+-------------+--------------------+--------------+------------------+------------+-----------------------+----------------------------+-----------------------+-------------------------+----------------------+-------------------+------------+---------+\n|4771cc26-131a-45d...|2de017a3-2e01-49c...| Fully Paid|             262328|Short Term|        null|         null|           10+ years| Home Mortgage|Debt Consolidation|    33295.98|                   21.1|                           8|                     35|                        0|                229976|             850784|           0|        0|\n|d4062e70-befa-499...|81536ad9-5ccf-4eb...| Fully Paid|             176220|Short Term|        null|         null|             5 years|          Rent|Debt Consolidation|     20639.7|                    6.1|                          NA|                     15|                        0|                253460|             427174|           0|        0|\n|db0dc6e1-77ee-482...|018973c9-e316-495...|Charged Off|             648714| Long Term|        null|         null|            &lt; 1 year| Home Mortgage|         Buy House|    14806.13|                    8.2|                           8|                     15|                        0|                193306|             864204|           0|        0|\n|fa096848-6143-490...|aa0a6a22-a95e-48e...| Fully Paid|             541970|Short Term|        null|         null|           10+ years| Home Mortgage| Home Improvements|    23568.55|                   23.2|                          NA|                     23|                        0|                 60705|            1634468|           0|        0|\n|7cbaa3fa-16fd-434...|3ec886e7-f15d-4c3...| Fully Paid|             449020| Long Term|        null|         null|             9 years|      Own Home|Debt Consolidation|    18904.81|                   19.4|                          NA|                      8|                        0|                334533|             428956|           0|        0|\n|c9a16a9d-8801-443...|abb4c446-08ea-49f...|Charged Off|             653004| Long Term|        null|         null|             7 years| Home Mortgage|Debt Consolidation|    14537.09|                   20.5|                          NA|                      9|                        0|                302309|             413754|           0|        0|\n|c6be21f0-80b1-46b...|c67b2cb5-9f91-4bc...| Fully Paid|              66396|Short Term|        null|         null|           10+ years|          Rent|Debt Consolidation|     9898.81|                   27.1|                          NA|                     23|                        1|                  9728|             402380|           1|        0|\n|dcf093ca-d26b-485...|5129cffc-68a1-4dd...| Fully Paid|             107404|Short Term|        null|         null|                 n/a| Home Mortgage|             other|    19238.07|                   43.7|                          NA|                      5|                        0|                 28956|              58014|           0|        0|\n|83ad0662-ef2d-473...|2d53b50a-30a2-488...| Fully Paid|             109318| Long Term|        null|         null|           10+ years| Home Mortgage|         Buy a Car|     15524.9|                   22.7|                          NA|                      9|                        0|                 77121|             920524|           0|        0|\n|03e3a77a-fa93-489...|dedbd71d-dabd-4c6...|Charged Off|             259842|Short Term|        null|         null|             8 years| Home Mortgage|Debt Consolidation|    11792.73|                   20.6|                          34|                      9|                        0|                401584|             708818|           0|        0|\n|38025238-198c-425...|33ca84d6-61ab-4e1...| Fully Paid|             210166|Short Term|        null|         null|             2 years|          Rent|Debt Consolidation|    13084.54|                   14.0|                          20|                     10|                        0|                314336|             483362|           0|        0|\n|dc17c812-a350-459...|847e2dfa-a44c-4ec...| Fully Paid|             327008| Long Term|        null|         null|             4 years| Home Mortgage|Debt Consolidation|    15419.45|                   16.7|                          24|                     13|                        0|                268090|             529738|           0|        0|\n|b41e7075-f499-431...|06d6c4a1-7a06-41c...|Charged Off|             214874|Short Term|        null|         null|             2 years|          Rent|Debt Consolidation|    20322.78|                   15.6|                          69|                      8|                        0|                285589|             402776|           0|        0|\n|6aca03a8-c5b2-401...|1902ebd8-4ffa-418...| Fully Paid|             152548|Short Term|        null|         null|             7 years| Home Mortgage|Debt Consolidation|    19164.54|                   12.1|                          26|                     22|                        0|                120916|             946000|           0|        0|\n|8196d772-1651-4a4...|fef3362a-2732-452...|Charged Off|             751520| Long Term|        null|         null|             6 years| Home Mortgage|Debt Consolidation|    27204.01|                   20.5|                          48|                     19|                        0|                483968|             594880|           0|        0|\n|71e2f337-7a44-43c...|6ae17645-6b2a-408...| Fully Paid|             289388|Short Term|        null|         null|             7 years| Home Mortgage|Debt Consolidation|      9758.4|                   16.0|                          NA|                     12|                        0|                439033|            1735030|           0|        0|\n|f41d9a21-d501-46d...|6e8df64b-1404-4c9...|Charged Off|             133034|Short Term|        null|         null|             5 years|      Own Home|             other|    30520.46|                   13.8|                          NA|                     23|                        0|                113278|            1561406|           0|        0|\n|747a1799-0cee-4e9...|d80034d4-37b2-438...| Fully Paid|             444620|Short Term|        null|         null|             2 years| Home Mortgage| Home Improvements|    15292.34|                   11.8|                          NA|                      9|                        0|                373350|             522742|           0|        0|\n|374bba0a-c0fe-46b...|64f770d8-dec2-42e...| Fully Paid|             479358|Short Term|        null|         null|           10+ years|          Rent|Debt Consolidation|    22659.59|                   22.4|                          41|                     13|                        0|                807462|            1391302|           0|        0|\n|bbde2bed-dc43-409...|4da78dcb-83c2-433...| Fully Paid|             336908|Short Term|        null|         null|           10+ years|          Rent|Debt Consolidation|     6652.47|                   29.1|                          NA|                      8|                        0|                277419|            1119250|           0|        0|\n+--------------------+--------------------+-----------+-------------------+----------+------------+-------------+--------------------+--------------+------------------+------------+-----------------------+----------------------------+-----------------------+-------------------------+----------------------+-------------------+------------+---------+\nonly showing top 20 rows\n\n</div>",
       "datasetInfos": [],
       "metadata": {},
       "removedWidgets": [],
       "type": "html"
      }
     },
     "output_type": "display_data"
    }
   ],
   "source": [
    "credit_data.filter(credit_data['Annual Income'].isNull()) \\\n",
    "           .show()"
   ]
  },
  {
   "cell_type": "code",
   "execution_count": 0,
   "metadata": {
    "application/vnd.databricks.v1+cell": {
     "inputWidgets": {},
     "nuid": "c24c13d0-e1e3-4a95-a675-f8711f761276",
     "showTitle": false,
     "title": ""
    }
   },
   "outputs": [
    {
     "data": {
      "text/html": [
       "<style scoped>\n",
       "  .ansiout {\n",
       "    display: block;\n",
       "    unicode-bidi: embed;\n",
       "    white-space: pre-wrap;\n",
       "    word-wrap: break-word;\n",
       "    word-break: break-all;\n",
       "    font-family: \"Source Code Pro\", \"Menlo\", monospace;;\n",
       "    font-size: 13px;\n",
       "    color: #555;\n",
       "    margin-left: 4px;\n",
       "    line-height: 19px;\n",
       "  }\n",
       "</style>\n",
       "<div class=\"ansiout\">Out[25]: 80845</div>"
      ]
     },
     "metadata": {
      "application/vnd.databricks.v1+output": {
       "addedWidgets": {},
       "arguments": {},
       "data": "<div class=\"ansiout\">Out[25]: 80845</div>",
       "datasetInfos": [],
       "metadata": {},
       "removedWidgets": [],
       "type": "html"
      }
     },
     "output_type": "display_data"
    }
   ],
   "source": [
    "credit_data = credit_data.dropna()\n",
    "\n",
    "credit_data.count()"
   ]
  },
  {
   "cell_type": "code",
   "execution_count": 0,
   "metadata": {
    "application/vnd.databricks.v1+cell": {
     "inputWidgets": {},
     "nuid": "acb10daa-b4c2-4b0d-82f2-babb9484d616",
     "showTitle": false,
     "title": ""
    }
   },
   "outputs": [
    {
     "data": {
      "text/html": [
       "<style scoped>\n",
       "  .ansiout {\n",
       "    display: block;\n",
       "    unicode-bidi: embed;\n",
       "    white-space: pre-wrap;\n",
       "    word-wrap: break-word;\n",
       "    word-break: break-all;\n",
       "    font-family: \"Source Code Pro\", \"Menlo\", monospace;;\n",
       "    font-size: 13px;\n",
       "    color: #555;\n",
       "    margin-left: 4px;\n",
       "    line-height: 19px;\n",
       "  }\n",
       "</style>\n",
       "<div class=\"ansiout\">+--------------------+-------------+--------------+------------+\n",
       "         Customer ID|Annual Income|Home Ownership|Bankruptcies|\n",
       "+--------------------+-------------+--------------+------------+\n",
       "981165ec-3274-42f...|      1167493| Home Mortgage|           1|\n",
       "90a75dde-34d5-419...|      1184194| Home Mortgage|           1|\n",
       "900c9191-2c20-468...|      1560907|          Rent|           1|\n",
       "2ac05980-7848-469...|       693234|          Rent|           1|\n",
       "1c9b6b3e-060d-4a7...|       524609|          Rent|           1|\n",
       "0c0f26c2-c4c9-4f6...|      2048618| Home Mortgage|           1|\n",
       "c2fe5a7f-9826-48a...|       947625|          Rent|           1|\n",
       "55012e48-1a72-460...|      4776125| Home Mortgage|           1|\n",
       "377a2055-0d25-4dd...|      1212238|          Rent|           1|\n",
       "d110ff2c-c936-487...|       895147|          Rent|           1|\n",
       "f0d6b352-bcf0-411...|       671080|          Rent|           1|\n",
       "4bf2f68f-20e5-44c...|      1816001|          Rent|           1|\n",
       "886e3ac5-357d-42a...|       787626|          Rent|           1|\n",
       "ee43e681-9eca-4f0...|      1138518|          Rent|           1|\n",
       "76c63206-8f06-45f...|      1048363|          Rent|           1|\n",
       "7391b4e2-f7fe-41d...|       756352| Home Mortgage|           1|\n",
       "64dcd3aa-3c82-4c7...|       866799| Home Mortgage|           2|\n",
       "86ea6dde-87de-443...|      1395911| Home Mortgage|           1|\n",
       "117496d1-3c6e-429...|       825246|          Rent|           1|\n",
       "9af01efe-ca83-4a6...|       853974|          Rent|           1|\n",
       "+--------------------+-------------+--------------+------------+\n",
       "only showing top 20 rows\n",
       "\n",
       "</div>"
      ]
     },
     "metadata": {
      "application/vnd.databricks.v1+output": {
       "addedWidgets": {},
       "arguments": {},
       "data": "<div class=\"ansiout\">+--------------------+-------------+--------------+------------+\n|         Customer ID|Annual Income|Home Ownership|Bankruptcies|\n+--------------------+-------------+--------------+------------+\n|981165ec-3274-42f...|      1167493| Home Mortgage|           1|\n|90a75dde-34d5-419...|      1184194| Home Mortgage|           1|\n|900c9191-2c20-468...|      1560907|          Rent|           1|\n|2ac05980-7848-469...|       693234|          Rent|           1|\n|1c9b6b3e-060d-4a7...|       524609|          Rent|           1|\n|0c0f26c2-c4c9-4f6...|      2048618| Home Mortgage|           1|\n|c2fe5a7f-9826-48a...|       947625|          Rent|           1|\n|55012e48-1a72-460...|      4776125| Home Mortgage|           1|\n|377a2055-0d25-4dd...|      1212238|          Rent|           1|\n|d110ff2c-c936-487...|       895147|          Rent|           1|\n|f0d6b352-bcf0-411...|       671080|          Rent|           1|\n|4bf2f68f-20e5-44c...|      1816001|          Rent|           1|\n|886e3ac5-357d-42a...|       787626|          Rent|           1|\n|ee43e681-9eca-4f0...|      1138518|          Rent|           1|\n|76c63206-8f06-45f...|      1048363|          Rent|           1|\n|7391b4e2-f7fe-41d...|       756352| Home Mortgage|           1|\n|64dcd3aa-3c82-4c7...|       866799| Home Mortgage|           2|\n|86ea6dde-87de-443...|      1395911| Home Mortgage|           1|\n|117496d1-3c6e-429...|       825246|          Rent|           1|\n|9af01efe-ca83-4a6...|       853974|          Rent|           1|\n+--------------------+-------------+--------------+------------+\nonly showing top 20 rows\n\n</div>",
       "datasetInfos": [],
       "metadata": {},
       "removedWidgets": [],
       "type": "html"
      }
     },
     "output_type": "display_data"
    }
   ],
   "source": [
    "credit_data.select('Customer ID', 'Annual Income', 'Home Ownership', 'Bankruptcies')\\\n",
    "           .where(credit_data.Bankruptcies > 0) \\\n",
    "           .show()"
   ]
  },
  {
   "cell_type": "code",
   "execution_count": 0,
   "metadata": {
    "application/vnd.databricks.v1+cell": {
     "inputWidgets": {},
     "nuid": "584860f3-7542-41f0-93b5-9f101f0debda",
     "showTitle": false,
     "title": ""
    }
   },
   "outputs": [
    {
     "data": {
      "text/html": [
       "<style scoped>\n",
       "  .ansiout {\n",
       "    display: block;\n",
       "    unicode-bidi: embed;\n",
       "    white-space: pre-wrap;\n",
       "    word-wrap: break-word;\n",
       "    word-break: break-all;\n",
       "    font-family: \"Source Code Pro\", \"Menlo\", monospace;;\n",
       "    font-size: 13px;\n",
       "    color: #555;\n",
       "    margin-left: 4px;\n",
       "    line-height: 19px;\n",
       "  }\n",
       "</style>\n",
       "<div class=\"ansiout\">+--------------------+-------------+--------------+---------+\n",
       "         Customer ID|Annual Income|Home Ownership|Tax Liens|\n",
       "+--------------------+-------------+--------------+---------+\n",
       "54f57722-2473-4dd...|      1249953| Home Mortgage|        1|\n",
       "d377d2ea-5cf8-4ee...|       719910| Home Mortgage|        1|\n",
       "403bdb3c-e326-417...|       315666|      Own Home|        2|\n",
       "68b77d5b-94b9-46b...|       562419|          Rent|        1|\n",
       "ee5f9ebe-0bc7-4be...|      1634323| Home Mortgage|        1|\n",
       "19542fc0-6f7e-4e8...|      1409610|          Rent|        4|\n",
       "a239a831-642f-4cf...|      1264602| Home Mortgage|        2|\n",
       "42790d99-2adc-4ee...|       502892|          Rent|        1|\n",
       "d532715b-a0ea-4ce...|       925946| Home Mortgage|        1|\n",
       "8059ca3a-ca55-4be...|      1157328|          Rent|        2|\n",
       "21fd514c-1391-4f7...|       594301|      Own Home|        3|\n",
       "46918079-5f39-4ca...|      3562348| Home Mortgage|        1|\n",
       "35d100c3-3fac-42f...|      2299836| Home Mortgage|        1|\n",
       "4f8a034b-1384-48e...|      7669160|          Rent|        1|\n",
       "c0342d1a-fe13-4cc...|       954750| Home Mortgage|        1|\n",
       "12f7d0e9-66be-4a6...|      1292095|          Rent|        1|\n",
       "cf1765cc-be60-4fe...|      1175929| Home Mortgage|        1|\n",
       "d2592b4e-f032-42c...|      1340222|      Own Home|        4|\n",
       "a3e9cb3b-5724-402...|       561450|          Rent|        3|\n",
       "840763ec-bdab-4bb...|       903982| Home Mortgage|        1|\n",
       "+--------------------+-------------+--------------+---------+\n",
       "only showing top 20 rows\n",
       "\n",
       "</div>"
      ]
     },
     "metadata": {
      "application/vnd.databricks.v1+output": {
       "addedWidgets": {},
       "arguments": {},
       "data": "<div class=\"ansiout\">+--------------------+-------------+--------------+---------+\n|         Customer ID|Annual Income|Home Ownership|Tax Liens|\n+--------------------+-------------+--------------+---------+\n|54f57722-2473-4dd...|      1249953| Home Mortgage|        1|\n|d377d2ea-5cf8-4ee...|       719910| Home Mortgage|        1|\n|403bdb3c-e326-417...|       315666|      Own Home|        2|\n|68b77d5b-94b9-46b...|       562419|          Rent|        1|\n|ee5f9ebe-0bc7-4be...|      1634323| Home Mortgage|        1|\n|19542fc0-6f7e-4e8...|      1409610|          Rent|        4|\n|a239a831-642f-4cf...|      1264602| Home Mortgage|        2|\n|42790d99-2adc-4ee...|       502892|          Rent|        1|\n|d532715b-a0ea-4ce...|       925946| Home Mortgage|        1|\n|8059ca3a-ca55-4be...|      1157328|          Rent|        2|\n|21fd514c-1391-4f7...|       594301|      Own Home|        3|\n|46918079-5f39-4ca...|      3562348| Home Mortgage|        1|\n|35d100c3-3fac-42f...|      2299836| Home Mortgage|        1|\n|4f8a034b-1384-48e...|      7669160|          Rent|        1|\n|c0342d1a-fe13-4cc...|       954750| Home Mortgage|        1|\n|12f7d0e9-66be-4a6...|      1292095|          Rent|        1|\n|cf1765cc-be60-4fe...|      1175929| Home Mortgage|        1|\n|d2592b4e-f032-42c...|      1340222|      Own Home|        4|\n|a3e9cb3b-5724-402...|       561450|          Rent|        3|\n|840763ec-bdab-4bb...|       903982| Home Mortgage|        1|\n+--------------------+-------------+--------------+---------+\nonly showing top 20 rows\n\n</div>",
       "datasetInfos": [],
       "metadata": {},
       "removedWidgets": [],
       "type": "html"
      }
     },
     "output_type": "display_data"
    }
   ],
   "source": [
    "credit_data.select('Customer ID', 'Annual Income', 'Home Ownership', 'Tax Liens')\\\n",
    "           .filter((credit_data['Annual Income'] > 100000) & (credit_data['Tax Liens'] > 0)) \\\n",
    "           .show()"
   ]
  },
  {
   "cell_type": "code",
   "execution_count": 0,
   "metadata": {
    "application/vnd.databricks.v1+cell": {
     "inputWidgets": {},
     "nuid": "5935c73a-700d-4f80-88ae-3bab76564308",
     "showTitle": false,
     "title": ""
    }
   },
   "outputs": [
    {
     "data": {
      "text/html": [
       "<style scoped>\n",
       "  .ansiout {\n",
       "    display: block;\n",
       "    unicode-bidi: embed;\n",
       "    white-space: pre-wrap;\n",
       "    word-wrap: break-word;\n",
       "    word-break: break-all;\n",
       "    font-family: \"Source Code Pro\", \"Menlo\", monospace;;\n",
       "    font-size: 13px;\n",
       "    color: #555;\n",
       "    margin-left: 4px;\n",
       "    line-height: 19px;\n",
       "  }\n",
       "</style>\n",
       "<div class=\"ansiout\">+--------------------+--------------+\n",
       "         Customer ID|Home Ownership|\n",
       "+--------------------+--------------+\n",
       "981165ec-3274-42f...| Home Mortgage|\n",
       "4ffe99d3-7f2a-44d...| Home Mortgage|\n",
       "90a75dde-34d5-419...| Home Mortgage|\n",
       "af534dea-d27e-4fd...|          Rent|\n",
       "235c4a43-dadf-483...|          Rent|\n",
       "0de7bcdb-ebf4-460...|          Rent|\n",
       "900c9191-2c20-468...|          Rent|\n",
       "2ac05980-7848-469...|          Rent|\n",
       "967e8733-7189-49b...| Home Mortgage|\n",
       "422f9b72-5041-407...| Home Mortgage|\n",
       "40f729c9-54c7-476...|          Rent|\n",
       "016c5139-4da2-44b...|          Rent|\n",
       "5b53e176-8fc7-48b...|          Rent|\n",
       "eb166545-76e5-43a...| Home Mortgage|\n",
       "54f57722-2473-4dd...| Home Mortgage|\n",
       "cbe53e22-ba67-4ea...|          Rent|\n",
       "9baf6d5d-f744-433...|          Rent|\n",
       "2bdc133d-cbbf-46c...| Home Mortgage|\n",
       "689da294-ff83-4d4...| Home Mortgage|\n",
       "f4226232-1c33-4d6...|          Rent|\n",
       "+--------------------+--------------+\n",
       "only showing top 20 rows\n",
       "\n",
       "</div>"
      ]
     },
     "metadata": {
      "application/vnd.databricks.v1+output": {
       "addedWidgets": {},
       "arguments": {},
       "data": "<div class=\"ansiout\">+--------------------+--------------+\n|         Customer ID|Home Ownership|\n+--------------------+--------------+\n|981165ec-3274-42f...| Home Mortgage|\n|4ffe99d3-7f2a-44d...| Home Mortgage|\n|90a75dde-34d5-419...| Home Mortgage|\n|af534dea-d27e-4fd...|          Rent|\n|235c4a43-dadf-483...|          Rent|\n|0de7bcdb-ebf4-460...|          Rent|\n|900c9191-2c20-468...|          Rent|\n|2ac05980-7848-469...|          Rent|\n|967e8733-7189-49b...| Home Mortgage|\n|422f9b72-5041-407...| Home Mortgage|\n|40f729c9-54c7-476...|          Rent|\n|016c5139-4da2-44b...|          Rent|\n|5b53e176-8fc7-48b...|          Rent|\n|eb166545-76e5-43a...| Home Mortgage|\n|54f57722-2473-4dd...| Home Mortgage|\n|cbe53e22-ba67-4ea...|          Rent|\n|9baf6d5d-f744-433...|          Rent|\n|2bdc133d-cbbf-46c...| Home Mortgage|\n|689da294-ff83-4d4...| Home Mortgage|\n|f4226232-1c33-4d6...|          Rent|\n+--------------------+--------------+\nonly showing top 20 rows\n\n</div>",
       "datasetInfos": [],
       "metadata": {},
       "removedWidgets": [],
       "type": "html"
      }
     },
     "output_type": "display_data"
    }
   ],
   "source": [
    "credit_data.select('Customer ID', 'Home Ownership')\\\n",
    "           .filter(credit_data['Home Ownership'].isin(['Home Mortgage', 'Rent'])) \\\n",
    "           .show()"
   ]
  },
  {
   "cell_type": "code",
   "execution_count": 0,
   "metadata": {
    "application/vnd.databricks.v1+cell": {
     "inputWidgets": {},
     "nuid": "6627b7a5-9c3b-4b30-b1af-9d7ae5360bd4",
     "showTitle": false,
     "title": ""
    }
   },
   "outputs": [
    {
     "data": {
      "text/html": [
       "<style scoped>\n",
       "  .ansiout {\n",
       "    display: block;\n",
       "    unicode-bidi: embed;\n",
       "    white-space: pre-wrap;\n",
       "    word-wrap: break-word;\n",
       "    word-break: break-all;\n",
       "    font-family: \"Source Code Pro\", \"Menlo\", monospace;;\n",
       "    font-size: 13px;\n",
       "    color: #555;\n",
       "    margin-left: 4px;\n",
       "    line-height: 19px;\n",
       "  }\n",
       "</style>\n",
       "<div class=\"ansiout\">+--------------------+-------+--------------------+\n",
       "         Customer ID| Income|Monthly Debt Payment|\n",
       "+--------------------+-------+--------------------+\n",
       "981165ec-3274-42f...|1167493|             5214.74|\n",
       "5efb2b2b-bf11-4df...|2231892|            29200.53|\n",
       "e777faab-98ae-45a...| 806949|              8741.9|\n",
       "4ffe99d3-7f2a-44d...| 896857|            16367.74|\n",
       "90a75dde-34d5-419...|1184194|            10855.08|\n",
       "af534dea-d27e-4fd...|2559110|            18660.28|\n",
       "235c4a43-dadf-483...|1454735|            39277.75|\n",
       "0de7bcdb-ebf4-460...| 714628|            11851.06|\n",
       "11581f68-de3c-49d...| 776188|            11578.22|\n",
       "900c9191-2c20-468...|1560907|            17560.37|\n",
       "2ac05980-7848-469...| 693234|            14211.24|\n",
       "967e8733-7189-49b...|1821967|            17612.24|\n",
       "422f9b72-5041-407...|1791738|             2478.55|\n",
       "40f729c9-54c7-476...|1133274|             9632.81|\n",
       "016c5139-4da2-44b...|1354073|            13202.15|\n",
       "5b53e176-8fc7-48b...|1890690|            21900.35|\n",
       "eb166545-76e5-43a...| 850383|             5860.74|\n",
       "54f57722-2473-4dd...|1249953|             6812.26|\n",
       "cbe53e22-ba67-4ea...|1722654|            15647.45|\n",
       "9baf6d5d-f744-433...|1029857|            13817.18|\n",
       "+--------------------+-------+--------------------+\n",
       "only showing top 20 rows\n",
       "\n",
       "</div>"
      ]
     },
     "metadata": {
      "application/vnd.databricks.v1+output": {
       "addedWidgets": {},
       "arguments": {},
       "data": "<div class=\"ansiout\">+--------------------+-------+--------------------+\n|         Customer ID| Income|Monthly Debt Payment|\n+--------------------+-------+--------------------+\n|981165ec-3274-42f...|1167493|             5214.74|\n|5efb2b2b-bf11-4df...|2231892|            29200.53|\n|e777faab-98ae-45a...| 806949|              8741.9|\n|4ffe99d3-7f2a-44d...| 896857|            16367.74|\n|90a75dde-34d5-419...|1184194|            10855.08|\n|af534dea-d27e-4fd...|2559110|            18660.28|\n|235c4a43-dadf-483...|1454735|            39277.75|\n|0de7bcdb-ebf4-460...| 714628|            11851.06|\n|11581f68-de3c-49d...| 776188|            11578.22|\n|900c9191-2c20-468...|1560907|            17560.37|\n|2ac05980-7848-469...| 693234|            14211.24|\n|967e8733-7189-49b...|1821967|            17612.24|\n|422f9b72-5041-407...|1791738|             2478.55|\n|40f729c9-54c7-476...|1133274|             9632.81|\n|016c5139-4da2-44b...|1354073|            13202.15|\n|5b53e176-8fc7-48b...|1890690|            21900.35|\n|eb166545-76e5-43a...| 850383|             5860.74|\n|54f57722-2473-4dd...|1249953|             6812.26|\n|cbe53e22-ba67-4ea...|1722654|            15647.45|\n|9baf6d5d-f744-433...|1029857|            13817.18|\n+--------------------+-------+--------------------+\nonly showing top 20 rows\n\n</div>",
       "datasetInfos": [],
       "metadata": {},
       "removedWidgets": [],
       "type": "html"
      }
     },
     "output_type": "display_data"
    }
   ],
   "source": [
    "credit_data.select('Customer ID', 'Annual Income', 'Monthly Debt')\\\n",
    "           .withColumnRenamed('Annual Income', 'Income')\\\n",
    "           .withColumnRenamed('Monthly Debt', 'Monthly Debt Payment')\\\n",
    "           .show()"
   ]
  },
  {
   "cell_type": "code",
   "execution_count": 0,
   "metadata": {
    "application/vnd.databricks.v1+cell": {
     "inputWidgets": {},
     "nuid": "3495a919-f065-423b-8753-54a8348a7543",
     "showTitle": false,
     "title": ""
    }
   },
   "outputs": [
    {
     "data": {
      "text/html": [
       "<style scoped>\n",
       "  .ansiout {\n",
       "    display: block;\n",
       "    unicode-bidi: embed;\n",
       "    white-space: pre-wrap;\n",
       "    word-wrap: break-word;\n",
       "    word-break: break-all;\n",
       "    font-family: \"Source Code Pro\", \"Menlo\", monospace;;\n",
       "    font-size: 13px;\n",
       "    color: #555;\n",
       "    margin-left: 4px;\n",
       "    line-height: 19px;\n",
       "  }\n",
       "</style>\n",
       "<div class=\"ansiout\">+--------------------+-------------+------------+------------------+\n",
       "         Customer ID|Annual Income|Monthly Debt|           Savings|\n",
       "+--------------------+-------------+------------+------------------+\n",
       "981165ec-3274-42f...|      1167493|     5214.74|        1104916.12|\n",
       "5efb2b2b-bf11-4df...|      2231892|    29200.53|1881485.6400000001|\n",
       "e777faab-98ae-45a...|       806949|      8741.9|          702046.2|\n",
       "4ffe99d3-7f2a-44d...|       896857|    16367.74|         700444.12|\n",
       "90a75dde-34d5-419...|      1184194|    10855.08|        1053933.04|\n",
       "af534dea-d27e-4fd...|      2559110|    18660.28|        2335186.64|\n",
       "235c4a43-dadf-483...|      1454735|    39277.75|          983402.0|\n",
       "0de7bcdb-ebf4-460...|       714628|    11851.06|         572415.28|\n",
       "11581f68-de3c-49d...|       776188|    11578.22|         637249.36|\n",
       "900c9191-2c20-468...|      1560907|    17560.37|        1350182.56|\n",
       "2ac05980-7848-469...|       693234|    14211.24|         522699.12|\n",
       "967e8733-7189-49b...|      1821967|    17612.24|        1610620.12|\n",
       "422f9b72-5041-407...|      1791738|     2478.55|         1761995.4|\n",
       "40f729c9-54c7-476...|      1133274|     9632.81|        1017680.28|\n",
       "016c5139-4da2-44b...|      1354073|    13202.15|         1195647.2|\n",
       "5b53e176-8fc7-48b...|      1890690|    21900.35|         1627885.8|\n",
       "eb166545-76e5-43a...|       850383|     5860.74|         780054.12|\n",
       "54f57722-2473-4dd...|      1249953|     6812.26|        1168205.88|\n",
       "cbe53e22-ba67-4ea...|      1722654|    15647.45|         1534884.6|\n",
       "9baf6d5d-f744-433...|      1029857|    13817.18|         864050.84|\n",
       "+--------------------+-------------+------------+------------------+\n",
       "only showing top 20 rows\n",
       "\n",
       "</div>"
      ]
     },
     "metadata": {
      "application/vnd.databricks.v1+output": {
       "addedWidgets": {},
       "arguments": {},
       "data": "<div class=\"ansiout\">+--------------------+-------------+------------+------------------+\n|         Customer ID|Annual Income|Monthly Debt|           Savings|\n+--------------------+-------------+------------+------------------+\n|981165ec-3274-42f...|      1167493|     5214.74|        1104916.12|\n|5efb2b2b-bf11-4df...|      2231892|    29200.53|1881485.6400000001|\n|e777faab-98ae-45a...|       806949|      8741.9|          702046.2|\n|4ffe99d3-7f2a-44d...|       896857|    16367.74|         700444.12|\n|90a75dde-34d5-419...|      1184194|    10855.08|        1053933.04|\n|af534dea-d27e-4fd...|      2559110|    18660.28|        2335186.64|\n|235c4a43-dadf-483...|      1454735|    39277.75|          983402.0|\n|0de7bcdb-ebf4-460...|       714628|    11851.06|         572415.28|\n|11581f68-de3c-49d...|       776188|    11578.22|         637249.36|\n|900c9191-2c20-468...|      1560907|    17560.37|        1350182.56|\n|2ac05980-7848-469...|       693234|    14211.24|         522699.12|\n|967e8733-7189-49b...|      1821967|    17612.24|        1610620.12|\n|422f9b72-5041-407...|      1791738|     2478.55|         1761995.4|\n|40f729c9-54c7-476...|      1133274|     9632.81|        1017680.28|\n|016c5139-4da2-44b...|      1354073|    13202.15|         1195647.2|\n|5b53e176-8fc7-48b...|      1890690|    21900.35|         1627885.8|\n|eb166545-76e5-43a...|       850383|     5860.74|         780054.12|\n|54f57722-2473-4dd...|      1249953|     6812.26|        1168205.88|\n|cbe53e22-ba67-4ea...|      1722654|    15647.45|         1534884.6|\n|9baf6d5d-f744-433...|      1029857|    13817.18|         864050.84|\n+--------------------+-------------+------------+------------------+\nonly showing top 20 rows\n\n</div>",
       "datasetInfos": [],
       "metadata": {},
       "removedWidgets": [],
       "type": "html"
      }
     },
     "output_type": "display_data"
    }
   ],
   "source": [
    "credit_data.select('Customer ID', 'Annual Income', 'Monthly Debt')\\\n",
    "           .withColumn('Savings', credit_data['Annual Income'] - 12 * credit_data['Monthly Debt'])\\\n",
    "           .show()"
   ]
  },
  {
   "cell_type": "code",
   "execution_count": 0,
   "metadata": {
    "application/vnd.databricks.v1+cell": {
     "inputWidgets": {},
     "nuid": "98987f86-cf6f-4d55-a1fd-54dfb00ae53d",
     "showTitle": false,
     "title": ""
    }
   },
   "outputs": [
    {
     "data": {
      "text/html": [
       "<style scoped>\n",
       "  .ansiout {\n",
       "    display: block;\n",
       "    unicode-bidi: embed;\n",
       "    white-space: pre-wrap;\n",
       "    word-wrap: break-word;\n",
       "    word-break: break-all;\n",
       "    font-family: \"Source Code Pro\", \"Menlo\", monospace;;\n",
       "    font-size: 13px;\n",
       "    color: #555;\n",
       "    margin-left: 4px;\n",
       "    line-height: 19px;\n",
       "  }\n",
       "</style>\n",
       "<div class=\"ansiout\">+--------------------+-------------+------------+\n",
       "         Customer ID|Annual Income|Monthly Debt|\n",
       "+--------------------+-------------+------------+\n",
       "97b34fe1-09e4-4c2...|     23980375|   435843.28|\n",
       "f6a12de7-4d24-484...|     13278720|   229057.92|\n",
       "3e4ec65d-94de-430...|      7529320|   205801.35|\n",
       "40a958e8-20cd-48f...|     10943088|   173265.56|\n",
       "40a958e8-20cd-48f...|     10943088|   173265.56|\n",
       "d9dd683a-d731-482...|     13591270|   172156.15|\n",
       "ce16912f-e020-4b9...|      7742120|   165810.53|\n",
       "60f260a4-b935-498...|      7298698|   165437.18|\n",
       "60f260a4-b935-498...|      7298698|   165437.18|\n",
       "8d34154e-42ea-403...|     12351235|   152331.93|\n",
       "0692b67c-a05a-455...|      5466965|   147152.53|\n",
       "a2b271d2-c0e5-4d2...|     17378730|   146270.93|\n",
       "f6b22b43-b28a-40d...|     10331915|    139480.9|\n",
       "d1b260b5-fa7a-436...|     13866314|   137507.56|\n",
       "d1b260b5-fa7a-436...|     13866314|   137507.56|\n",
       "73916c3d-4572-4cb...|      6029954|   136679.16|\n",
       "e8c1de95-e309-475...|      4698700|   124907.14|\n",
       "e8c1de95-e309-475...|      4698700|   124907.14|\n",
       "62ec485a-ab46-447...|      5494591|   124085.96|\n",
       "3f286ff1-80bf-4b0...|      4514571|   121140.58|\n",
       "+--------------------+-------------+------------+\n",
       "only showing top 20 rows\n",
       "\n",
       "</div>"
      ]
     },
     "metadata": {
      "application/vnd.databricks.v1+output": {
       "addedWidgets": {},
       "arguments": {},
       "data": "<div class=\"ansiout\">+--------------------+-------------+------------+\n|         Customer ID|Annual Income|Monthly Debt|\n+--------------------+-------------+------------+\n|97b34fe1-09e4-4c2...|     23980375|   435843.28|\n|f6a12de7-4d24-484...|     13278720|   229057.92|\n|3e4ec65d-94de-430...|      7529320|   205801.35|\n|40a958e8-20cd-48f...|     10943088|   173265.56|\n|40a958e8-20cd-48f...|     10943088|   173265.56|\n|d9dd683a-d731-482...|     13591270|   172156.15|\n|ce16912f-e020-4b9...|      7742120|   165810.53|\n|60f260a4-b935-498...|      7298698|   165437.18|\n|60f260a4-b935-498...|      7298698|   165437.18|\n|8d34154e-42ea-403...|     12351235|   152331.93|\n|0692b67c-a05a-455...|      5466965|   147152.53|\n|a2b271d2-c0e5-4d2...|     17378730|   146270.93|\n|f6b22b43-b28a-40d...|     10331915|    139480.9|\n|d1b260b5-fa7a-436...|     13866314|   137507.56|\n|d1b260b5-fa7a-436...|     13866314|   137507.56|\n|73916c3d-4572-4cb...|      6029954|   136679.16|\n|e8c1de95-e309-475...|      4698700|   124907.14|\n|e8c1de95-e309-475...|      4698700|   124907.14|\n|62ec485a-ab46-447...|      5494591|   124085.96|\n|3f286ff1-80bf-4b0...|      4514571|   121140.58|\n+--------------------+-------------+------------+\nonly showing top 20 rows\n\n</div>",
       "datasetInfos": [],
       "metadata": {},
       "removedWidgets": [],
       "type": "html"
      }
     },
     "output_type": "display_data"
    }
   ],
   "source": [
    "credit_data.select('Customer ID', 'Annual Income', 'Monthly Debt')\\\n",
    "           .orderBy(credit_data['Monthly Debt'].desc())\\\n",
    "           .show()"
   ]
  },
  {
   "cell_type": "code",
   "execution_count": 0,
   "metadata": {
    "application/vnd.databricks.v1+cell": {
     "inputWidgets": {},
     "nuid": "b7100199-f52e-4388-a1ae-bade38c5ead4",
     "showTitle": false,
     "title": ""
    }
   },
   "outputs": [
    {
     "data": {
      "text/html": [
       "<style scoped>\n",
       "  .ansiout {\n",
       "    display: block;\n",
       "    unicode-bidi: embed;\n",
       "    white-space: pre-wrap;\n",
       "    word-wrap: break-word;\n",
       "    word-break: break-all;\n",
       "    font-family: \"Source Code Pro\", \"Menlo\", monospace;;\n",
       "    font-size: 13px;\n",
       "    color: #555;\n",
       "    margin-left: 4px;\n",
       "    line-height: 19px;\n",
       "  }\n",
       "</style>\n",
       "<div class=\"ansiout\">+--------------------+-----------------------+--------------------+\n",
       "         Customer ID|Years of Credit History|Years in current job|\n",
       "+--------------------+-----------------------+--------------------+\n",
       "22a7d877-cacd-474...|                    3.7|             2 years|\n",
       "5ed9ac0e-bcb5-4c1...|                    3.8|             4 years|\n",
       "cc5ae64d-ea57-415...|                    3.8|            &lt; 1 year|\n",
       "5ed9ac0e-bcb5-4c1...|                    3.8|             4 years|\n",
       "3808c9b4-4c91-4ce...|                    3.9|            &lt; 1 year|\n",
       "65848279-9fdf-412...|                    3.9|                 n/a|\n",
       "65848279-9fdf-412...|                    3.9|                 n/a|\n",
       "85760e0c-46c6-4b0...|                    4.0|             6 years|\n",
       "0eda2d3a-084d-4e3...|                    4.0|             3 years|\n",
       "c2dae158-7e40-466...|                    4.0|             3 years|\n",
       "cd8dc129-35d3-446...|                    4.0|            &lt; 1 year|\n",
       "c2dae158-7e40-466...|                    4.0|             3 years|\n",
       "d583e66a-9f36-4ed...|                    4.1|             6 years|\n",
       "aa2ebc77-a8f6-41a...|                    4.1|           10+ years|\n",
       "cd91aef2-a302-40c...|                    4.1|           10+ years|\n",
       "a5358f92-f63e-4f2...|                    4.1|              1 year|\n",
       "d7e38b69-030f-4e1...|                    4.1|             3 years|\n",
       "d583e66a-9f36-4ed...|                    4.1|             6 years|\n",
       "cd91aef2-a302-40c...|                    4.1|           10+ years|\n",
       "cb69c0cc-4dc6-4bd...|                    4.2|             5 years|\n",
       "+--------------------+-----------------------+--------------------+\n",
       "only showing top 20 rows\n",
       "\n",
       "</div>"
      ]
     },
     "metadata": {
      "application/vnd.databricks.v1+output": {
       "addedWidgets": {},
       "arguments": {},
       "data": "<div class=\"ansiout\">+--------------------+-----------------------+--------------------+\n|         Customer ID|Years of Credit History|Years in current job|\n+--------------------+-----------------------+--------------------+\n|22a7d877-cacd-474...|                    3.7|             2 years|\n|5ed9ac0e-bcb5-4c1...|                    3.8|             4 years|\n|cc5ae64d-ea57-415...|                    3.8|            &lt; 1 year|\n|5ed9ac0e-bcb5-4c1...|                    3.8|             4 years|\n|3808c9b4-4c91-4ce...|                    3.9|            &lt; 1 year|\n|65848279-9fdf-412...|                    3.9|                 n/a|\n|65848279-9fdf-412...|                    3.9|                 n/a|\n|85760e0c-46c6-4b0...|                    4.0|             6 years|\n|0eda2d3a-084d-4e3...|                    4.0|             3 years|\n|c2dae158-7e40-466...|                    4.0|             3 years|\n|cd8dc129-35d3-446...|                    4.0|            &lt; 1 year|\n|c2dae158-7e40-466...|                    4.0|             3 years|\n|d583e66a-9f36-4ed...|                    4.1|             6 years|\n|aa2ebc77-a8f6-41a...|                    4.1|           10+ years|\n|cd91aef2-a302-40c...|                    4.1|           10+ years|\n|a5358f92-f63e-4f2...|                    4.1|              1 year|\n|d7e38b69-030f-4e1...|                    4.1|             3 years|\n|d583e66a-9f36-4ed...|                    4.1|             6 years|\n|cd91aef2-a302-40c...|                    4.1|           10+ years|\n|cb69c0cc-4dc6-4bd...|                    4.2|             5 years|\n+--------------------+-----------------------+--------------------+\nonly showing top 20 rows\n\n</div>",
       "datasetInfos": [],
       "metadata": {},
       "removedWidgets": [],
       "type": "html"
      }
     },
     "output_type": "display_data"
    }
   ],
   "source": [
    "credit_data.select('Customer ID', 'Years of Credit History', 'Years in current job')\\\n",
    "           .orderBy(credit_data['Years of Credit History'].asc())\\\n",
    "           .show()"
   ]
  },
  {
   "cell_type": "code",
   "execution_count": 0,
   "metadata": {
    "application/vnd.databricks.v1+cell": {
     "inputWidgets": {},
     "nuid": "34dbe87b-845b-4b6e-be0c-0feffc9f16fa",
     "showTitle": false,
     "title": ""
    }
   },
   "outputs": [
    {
     "data": {
      "text/html": [
       "<style scoped>\n",
       "  .ansiout {\n",
       "    display: block;\n",
       "    unicode-bidi: embed;\n",
       "    white-space: pre-wrap;\n",
       "    word-wrap: break-word;\n",
       "    word-break: break-all;\n",
       "    font-family: \"Source Code Pro\", \"Menlo\", monospace;;\n",
       "    font-size: 13px;\n",
       "    color: #555;\n",
       "    margin-left: 4px;\n",
       "    line-height: 19px;\n",
       "  }\n",
       "</style>\n",
       "<div class=\"ansiout\">+-----------+-----+\n",
       "Loan Status|count|\n",
       "+-----------+-----+\n",
       " Fully Paid|63636|\n",
       "Charged Off|17209|\n",
       "+-----------+-----+\n",
       "\n",
       "</div>"
      ]
     },
     "metadata": {
      "application/vnd.databricks.v1+output": {
       "addedWidgets": {},
       "arguments": {},
       "data": "<div class=\"ansiout\">+-----------+-----+\n|Loan Status|count|\n+-----------+-----+\n| Fully Paid|63636|\n|Charged Off|17209|\n+-----------+-----+\n\n</div>",
       "datasetInfos": [],
       "metadata": {},
       "removedWidgets": [],
       "type": "html"
      }
     },
     "output_type": "display_data"
    }
   ],
   "source": [
    "credit_data.groupBy('Loan Status').count().show()"
   ]
  },
  {
   "cell_type": "code",
   "execution_count": 0,
   "metadata": {
    "application/vnd.databricks.v1+cell": {
     "inputWidgets": {},
     "nuid": "5042152d-17cd-47a3-9d0c-38ffb5957884",
     "showTitle": false,
     "title": ""
    }
   },
   "outputs": [
    {
     "data": {
      "text/html": [
       "<style scoped>\n",
       "  .ansiout {\n",
       "    display: block;\n",
       "    unicode-bidi: embed;\n",
       "    white-space: pre-wrap;\n",
       "    word-wrap: break-word;\n",
       "    word-break: break-all;\n",
       "    font-family: \"Source Code Pro\", \"Menlo\", monospace;;\n",
       "    font-size: 13px;\n",
       "    color: #555;\n",
       "    margin-left: 4px;\n",
       "    line-height: 19px;\n",
       "  }\n",
       "</style>\n",
       "<div class=\"ansiout\">+--------------------+------------------------+\n",
       "             Purpose|sum(Current Loan Amount)|\n",
       "+--------------------+------------------------+\n",
       "           Buy a Car|             17854369137|\n",
       "  Debt Consolidation|            922591829940|\n",
       "             wedding|              2019163608|\n",
       "       Business Loan|             12194570146|\n",
       "   Home Improvements|             72769975949|\n",
       "               other|             63723065560|\n",
       "      small_business|              2667016770|\n",
       "               Other|             40609228517|\n",
       "              moving|              2020651732|\n",
       "            vacation|               709004527|\n",
       "    renewable_energy|                 1738154|\n",
       "Educational Expenses|              1410891724|\n",
       "       Medical Bills|             13256983377|\n",
       "           Buy House|              7460147607|\n",
       "         Take a Trip|              6356544777|\n",
       "      major_purchase|              4554765523|\n",
       "+--------------------+------------------------+\n",
       "\n",
       "</div>"
      ]
     },
     "metadata": {
      "application/vnd.databricks.v1+output": {
       "addedWidgets": {},
       "arguments": {},
       "data": "<div class=\"ansiout\">+--------------------+------------------------+\n|             Purpose|sum(Current Loan Amount)|\n+--------------------+------------------------+\n|           Buy a Car|             17854369137|\n|  Debt Consolidation|            922591829940|\n|             wedding|              2019163608|\n|       Business Loan|             12194570146|\n|   Home Improvements|             72769975949|\n|               other|             63723065560|\n|      small_business|              2667016770|\n|               Other|             40609228517|\n|              moving|              2020651732|\n|            vacation|               709004527|\n|    renewable_energy|                 1738154|\n|Educational Expenses|              1410891724|\n|       Medical Bills|             13256983377|\n|           Buy House|              7460147607|\n|         Take a Trip|              6356544777|\n|      major_purchase|              4554765523|\n+--------------------+------------------------+\n\n</div>",
       "datasetInfos": [],
       "metadata": {},
       "removedWidgets": [],
       "type": "html"
      }
     },
     "output_type": "display_data"
    }
   ],
   "source": [
    "credit_data.groupBy('Purpose').agg({'Current Loan Amount': 'sum'}).show()"
   ]
  },
  {
   "cell_type": "code",
   "execution_count": 0,
   "metadata": {
    "application/vnd.databricks.v1+cell": {
     "inputWidgets": {},
     "nuid": "a5a0f682-0382-43c6-814e-24ec2ca23d90",
     "showTitle": false,
     "title": ""
    }
   },
   "outputs": [
    {
     "data": {
      "text/html": [
       "<style scoped>\n",
       "  .ansiout {\n",
       "    display: block;\n",
       "    unicode-bidi: embed;\n",
       "    white-space: pre-wrap;\n",
       "    word-wrap: break-word;\n",
       "    word-break: break-all;\n",
       "    font-family: \"Source Code Pro\", \"Menlo\", monospace;;\n",
       "    font-size: 13px;\n",
       "    color: #555;\n",
       "    margin-left: 4px;\n",
       "    line-height: 19px;\n",
       "  }\n",
       "</style>\n",
       "<div class=\"ansiout\">+--------------------+------------------------+\n",
       "             Purpose|min(Current Loan Amount)|\n",
       "+--------------------+------------------------+\n",
       "           Buy a Car|                   21670|\n",
       "  Debt Consolidation|                   15422|\n",
       "             wedding|                   21890|\n",
       "       Business Loan|                   21978|\n",
       "   Home Improvements|                   21516|\n",
       "               other|                   11242|\n",
       "      small_business|                   38016|\n",
       "               Other|                   21472|\n",
       "              moving|                   21868|\n",
       "            vacation|                   21758|\n",
       "    renewable_energy|                   44682|\n",
       "Educational Expenses|                   22198|\n",
       "       Medical Bills|                   21450|\n",
       "           Buy House|                   22044|\n",
       "         Take a Trip|                   21450|\n",
       "      major_purchase|                   21516|\n",
       "+--------------------+------------------------+\n",
       "\n",
       "</div>"
      ]
     },
     "metadata": {
      "application/vnd.databricks.v1+output": {
       "addedWidgets": {},
       "arguments": {},
       "data": "<div class=\"ansiout\">+--------------------+------------------------+\n|             Purpose|min(Current Loan Amount)|\n+--------------------+------------------------+\n|           Buy a Car|                   21670|\n|  Debt Consolidation|                   15422|\n|             wedding|                   21890|\n|       Business Loan|                   21978|\n|   Home Improvements|                   21516|\n|               other|                   11242|\n|      small_business|                   38016|\n|               Other|                   21472|\n|              moving|                   21868|\n|            vacation|                   21758|\n|    renewable_energy|                   44682|\n|Educational Expenses|                   22198|\n|       Medical Bills|                   21450|\n|           Buy House|                   22044|\n|         Take a Trip|                   21450|\n|      major_purchase|                   21516|\n+--------------------+------------------------+\n\n</div>",
       "datasetInfos": [],
       "metadata": {},
       "removedWidgets": [],
       "type": "html"
      }
     },
     "output_type": "display_data"
    }
   ],
   "source": [
    "credit_data.groupBy('Purpose').agg({'Current Loan Amount': 'min'}).show()"
   ]
  },
  {
   "cell_type": "code",
   "execution_count": 0,
   "metadata": {
    "application/vnd.databricks.v1+cell": {
     "inputWidgets": {},
     "nuid": "63cc1c02-5aa7-444a-aee8-383a0536cb4e",
     "showTitle": false,
     "title": ""
    }
   },
   "outputs": [
    {
     "data": {
      "text/html": [
       "<style scoped>\n",
       "  .ansiout {\n",
       "    display: block;\n",
       "    unicode-bidi: embed;\n",
       "    white-space: pre-wrap;\n",
       "    word-wrap: break-word;\n",
       "    word-break: break-all;\n",
       "    font-family: \"Source Code Pro\", \"Menlo\", monospace;;\n",
       "    font-size: 13px;\n",
       "    color: #555;\n",
       "    margin-left: 4px;\n",
       "    line-height: 19px;\n",
       "  }\n",
       "</style>\n",
       "<div class=\"ansiout\">+--------------------+------------------------+\n",
       "             Purpose|avg(Current Loan Amount)|\n",
       "+--------------------+------------------------+\n",
       "           Buy a Car|    1.7435907360351562E7|\n",
       "  Debt Consolidation|    1.4571917772653326E7|\n",
       "             wedding|             2.2945041E7|\n",
       "       Business Loan|       9564368.741960784|\n",
       "   Home Improvements|    1.5417367785805086E7|\n",
       "               other|    1.2701428255929839E7|\n",
       "      small_business|    1.1397507564102564E7|\n",
       "               Other|    1.5370639105601817E7|\n",
       "              moving|          1.6165213856E7|\n",
       "            vacation|       9712390.780821918|\n",
       "    renewable_energy|               217269.25|\n",
       "Educational Expenses|     1.720599663414634E7|\n",
       "       Medical Bills|    1.4394118758957654E7|\n",
       "           Buy House|    1.3203801074336283E7|\n",
       "         Take a Trip|    1.3354085665966386E7|\n",
       "      major_purchase|    1.6151650790780142E7|\n",
       "+--------------------+------------------------+\n",
       "\n",
       "</div>"
      ]
     },
     "metadata": {
      "application/vnd.databricks.v1+output": {
       "addedWidgets": {},
       "arguments": {},
       "data": "<div class=\"ansiout\">+--------------------+------------------------+\n|             Purpose|avg(Current Loan Amount)|\n+--------------------+------------------------+\n|           Buy a Car|    1.7435907360351562E7|\n|  Debt Consolidation|    1.4571917772653326E7|\n|             wedding|             2.2945041E7|\n|       Business Loan|       9564368.741960784|\n|   Home Improvements|    1.5417367785805086E7|\n|               other|    1.2701428255929839E7|\n|      small_business|    1.1397507564102564E7|\n|               Other|    1.5370639105601817E7|\n|              moving|          1.6165213856E7|\n|            vacation|       9712390.780821918|\n|    renewable_energy|               217269.25|\n|Educational Expenses|     1.720599663414634E7|\n|       Medical Bills|    1.4394118758957654E7|\n|           Buy House|    1.3203801074336283E7|\n|         Take a Trip|    1.3354085665966386E7|\n|      major_purchase|    1.6151650790780142E7|\n+--------------------+------------------------+\n\n</div>",
       "datasetInfos": [],
       "metadata": {},
       "removedWidgets": [],
       "type": "html"
      }
     },
     "output_type": "display_data"
    }
   ],
   "source": [
    "credit_data.groupBy('Purpose').agg({'Current Loan Amount': 'avg'}).show()"
   ]
  },
  {
   "cell_type": "code",
   "execution_count": 0,
   "metadata": {
    "application/vnd.databricks.v1+cell": {
     "inputWidgets": {},
     "nuid": "556d1b82-38fb-4e14-8cc8-c568a1a4b53d",
     "showTitle": false,
     "title": ""
    }
   },
   "outputs": [
    {
     "data": {
      "text/html": [
       "<style scoped>\n",
       "  .ansiout {\n",
       "    display: block;\n",
       "    unicode-bidi: embed;\n",
       "    white-space: pre-wrap;\n",
       "    word-wrap: break-word;\n",
       "    word-break: break-all;\n",
       "    font-family: \"Source Code Pro\", \"Menlo\", monospace;;\n",
       "    font-size: 13px;\n",
       "    color: #555;\n",
       "    margin-left: 4px;\n",
       "    line-height: 19px;\n",
       "  }\n",
       "</style>"
      ]
     },
     "metadata": {
      "application/vnd.databricks.v1+output": {
       "arguments": {},
       "data": "",
       "errorSummary": "",
       "errorTraceType": null,
       "metadata": {},
       "type": "ipynbError"
      }
     },
     "output_type": "display_data"
    }
   ],
   "source": [
    "# TODO Recording: After running this cell to save the file\n",
    "\n",
    "# Go to the left navigation menu - choose the \"Data\" option\n",
    "# Select DBFS tab\n",
    "# Filestore -> FileStore -> shared_uploads -> cloud_user@loonycorn.com\n",
    "# Show that the CSV file is present there\n",
    "# Go to the file starting with \"part-00000\"\n",
    "# Copy the name of the file (click on the drop down and choose Copy File)\n",
    "# Use the name of the copied file in the next cell"
   ]
  },
  {
   "cell_type": "code",
   "execution_count": 0,
   "metadata": {
    "application/vnd.databricks.v1+cell": {
     "inputWidgets": {},
     "nuid": "3822df47-bec9-4c51-942c-91cbedeb17a6",
     "showTitle": false,
     "title": ""
    }
   },
   "outputs": [
    {
     "data": {
      "text/html": [
       "<style scoped>\n",
       "  .ansiout {\n",
       "    display: block;\n",
       "    unicode-bidi: embed;\n",
       "    white-space: pre-wrap;\n",
       "    word-wrap: break-word;\n",
       "    word-break: break-all;\n",
       "    font-family: \"Source Code Pro\", \"Menlo\", monospace;;\n",
       "    font-size: 13px;\n",
       "    color: #555;\n",
       "    margin-left: 4px;\n",
       "    line-height: 19px;\n",
       "  }\n",
       "</style>\n",
       "<div class=\"ansiout\"></div>"
      ]
     },
     "metadata": {
      "application/vnd.databricks.v1+output": {
       "addedWidgets": {},
       "arguments": {},
       "data": "<div class=\"ansiout\"></div>",
       "datasetInfos": [],
       "metadata": {},
       "removedWidgets": [],
       "type": "html"
      }
     },
     "output_type": "display_data"
    }
   ],
   "source": [
    "credit_data.groupBy('Purpose').count().write.csv('dbfs:/FileStore/shared_uploads/cloud.user@loonycorn.com/count_by_loan_purpose.csv')"
   ]
  },
  {
   "cell_type": "code",
   "execution_count": 0,
   "metadata": {
    "application/vnd.databricks.v1+cell": {
     "inputWidgets": {},
     "nuid": "b3da27df-ec9b-41fa-809a-abafb018185e",
     "showTitle": false,
     "title": ""
    }
   },
   "outputs": [
    {
     "data": {
      "text/html": [
       "<style scoped>\n",
       "  .ansiout {\n",
       "    display: block;\n",
       "    unicode-bidi: embed;\n",
       "    white-space: pre-wrap;\n",
       "    word-wrap: break-word;\n",
       "    word-break: break-all;\n",
       "    font-family: \"Source Code Pro\", \"Menlo\", monospace;;\n",
       "    font-size: 13px;\n",
       "    color: #555;\n",
       "    margin-left: 4px;\n",
       "    line-height: 19px;\n",
       "  }\n",
       "</style>\n",
       "<div class=\"ansiout\">Buy a Car,1024\n",
       "Debt Consolidation,63313\n",
       "wedding,88\n",
       "Business Loan,1275\n",
       "Home Improvements,4720\n",
       "other,5017\n",
       "small_business,234\n",
       "Other,2642\n",
       "moving,125\n",
       "vacation,73\n",
       "renewable_energy,8\n",
       "Educational Expenses,82\n",
       "Medical Bills,921\n",
       "Buy House,565\n",
       "Take a Trip,476\n",
       "major_purchase,282\n",
       "\n",
       "</div>"
      ]
     },
     "metadata": {
      "application/vnd.databricks.v1+output": {
       "addedWidgets": {},
       "arguments": {},
       "data": "<div class=\"ansiout\">Buy a Car,1024\nDebt Consolidation,63313\nwedding,88\nBusiness Loan,1275\nHome Improvements,4720\nother,5017\nsmall_business,234\nOther,2642\nmoving,125\nvacation,73\nrenewable_energy,8\nEducational Expenses,82\nMedical Bills,921\nBuy House,565\nTake a Trip,476\nmajor_purchase,282\n\n</div>",
       "datasetInfos": [],
       "metadata": {},
       "removedWidgets": [],
       "type": "html"
      }
     },
     "output_type": "display_data"
    }
   ],
   "source": [
    "print(dbutils.fs.head('use your file path here'))"
   ]
  },
  {
   "cell_type": "code",
   "execution_count": 0,
   "metadata": {
    "application/vnd.databricks.v1+cell": {
     "inputWidgets": {},
     "nuid": "a04f2746-075e-43f1-aa27-21041f8fae0d",
     "showTitle": false,
     "title": ""
    }
   },
   "outputs": [
    {
     "data": {
      "text/html": [
       "<style scoped>\n",
       "  .ansiout {\n",
       "    display: block;\n",
       "    unicode-bidi: embed;\n",
       "    white-space: pre-wrap;\n",
       "    word-wrap: break-word;\n",
       "    word-break: break-all;\n",
       "    font-family: \"Source Code Pro\", \"Menlo\", monospace;;\n",
       "    font-size: 13px;\n",
       "    color: #555;\n",
       "    margin-left: 4px;\n",
       "    line-height: 19px;\n",
       "  }\n",
       "</style>"
      ]
     },
     "metadata": {
      "application/vnd.databricks.v1+output": {
       "arguments": {},
       "data": "",
       "errorSummary": "",
       "errorTraceType": null,
       "metadata": {},
       "type": "ipynbError"
      }
     },
     "output_type": "display_data"
    }
   ],
   "source": [
    "dbutils.fs."
   ]
  }
 ],
 "metadata": {
  "application/vnd.databricks.v1+notebook": {
   "dashboards": [],
   "language": "python",
   "notebookMetadata": {
    "pythonIndentUnit": 2
   },
   "notebookName": "demo-03-BasicTransformationsAndActions",
   "notebookOrigID": 4449162043539831,
   "widgets": {}
  },
  "kernelspec": {
   "display_name": "Python 3",
   "language": "python",
   "name": "python3"
  },
  "language_info": {
   "codemirror_mode": {
    "name": "ipython",
    "version": 3
   },
   "file_extension": ".py",
   "mimetype": "text/x-python",
   "name": "python",
   "nbconvert_exporter": "python",
   "pygments_lexer": "ipython3",
   "version": "3.8.5"
  }
 },
 "nbformat": 4,
 "nbformat_minor": 1
}
